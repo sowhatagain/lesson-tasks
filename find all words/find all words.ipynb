{
 "cells": [
  {
   "cell_type": "code",
   "execution_count": 1,
   "metadata": {},
   "outputs": [
    {
     "data": {
      "text/plain": [
       "list"
      ]
     },
     "execution_count": 1,
     "metadata": {},
     "output_type": "execute_result"
    }
   ],
   "source": [
    "a=['р','о','с','т','е','л','е','к','о','м']\n",
    "type(a)\n",
    "\n"
   ]
  },
  {
   "cell_type": "code",
   "execution_count": 2,
   "metadata": {},
   "outputs": [
    {
     "data": {
      "text/plain": [
       "list"
      ]
     },
     "execution_count": 2,
     "metadata": {},
     "output_type": "execute_result"
    }
   ],
   "source": [
    "import sys\n",
    "import pandas as py\n",
    "aa = 'a'\n",
    "type(a)"
   ]
  },
  {
   "cell_type": "code",
   "execution_count": 3,
   "metadata": {},
   "outputs": [
    {
     "data": {
      "text/plain": [
       "['е', 'е', 'к', 'л', 'м', 'о', 'о', 'р', 'с', 'т']"
      ]
     },
     "execution_count": 3,
     "metadata": {},
     "output_type": "execute_result"
    }
   ],
   "source": [
    "sorted(a)\n"
   ]
  },
  {
   "cell_type": "code",
   "execution_count": 4,
   "metadata": {},
   "outputs": [
    {
     "name": "stdout",
     "output_type": "stream",
     "text": [
      "ckj\n",
      "ckj\n"
     ]
    },
    {
     "data": {
      "text/plain": [
       "str"
      ]
     },
     "execution_count": 4,
     "metadata": {},
     "output_type": "execute_result"
    }
   ],
   "source": [
    "a= input()\n",
    "print(a)\n",
    "type(a)\n"
   ]
  },
  {
   "cell_type": "code",
   "execution_count": 5,
   "metadata": {
    "collapsed": true
   },
   "outputs": [],
   "source": [
    "sorted(a)\n",
    "b=[]"
   ]
  },
  {
   "cell_type": "code",
   "execution_count": 6,
   "metadata": {},
   "outputs": [
    {
     "ename": "IndexError",
     "evalue": "string index out of range",
     "output_type": "error",
     "traceback": [
      "\u001b[1;31m---------------------------------------------------------------------------\u001b[0m",
      "\u001b[1;31mIndexError\u001b[0m                                Traceback (most recent call last)",
      "\u001b[1;32m<ipython-input-6-2cb289b88f14>\u001b[0m in \u001b[0;36m<module>\u001b[1;34m()\u001b[0m\n\u001b[1;32m----> 1\u001b[1;33m \u001b[1;33m[\u001b[0m \u001b[0mb\u001b[0m\u001b[1;33m.\u001b[0m\u001b[0mappend\u001b[0m\u001b[1;33m(\u001b[0m\u001b[0ma\u001b[0m\u001b[1;33m[\u001b[0m\u001b[0mi\u001b[0m\u001b[1;33m]\u001b[0m\u001b[1;33m)\u001b[0m \u001b[1;32mfor\u001b[0m \u001b[0mi\u001b[0m \u001b[1;32min\u001b[0m \u001b[0mrange\u001b[0m\u001b[1;33m(\u001b[0m\u001b[1;36m0\u001b[0m\u001b[1;33m,\u001b[0m\u001b[0mlen\u001b[0m\u001b[1;33m(\u001b[0m\u001b[0ma\u001b[0m\u001b[1;33m)\u001b[0m\u001b[1;33m)\u001b[0m \u001b[1;32mif\u001b[0m \u001b[0ma\u001b[0m\u001b[1;33m[\u001b[0m\u001b[0mi\u001b[0m\u001b[1;33m+\u001b[0m\u001b[1;36m1\u001b[0m\u001b[1;33m]\u001b[0m\u001b[1;33m!=\u001b[0m\u001b[0ma\u001b[0m\u001b[1;33m[\u001b[0m\u001b[0mi\u001b[0m\u001b[1;33m]\u001b[0m\u001b[1;33m]\u001b[0m\u001b[1;33m\u001b[0m\u001b[0m\n\u001b[0m",
      "\u001b[1;32m<ipython-input-6-2cb289b88f14>\u001b[0m in \u001b[0;36m<listcomp>\u001b[1;34m(.0)\u001b[0m\n\u001b[1;32m----> 1\u001b[1;33m \u001b[1;33m[\u001b[0m \u001b[0mb\u001b[0m\u001b[1;33m.\u001b[0m\u001b[0mappend\u001b[0m\u001b[1;33m(\u001b[0m\u001b[0ma\u001b[0m\u001b[1;33m[\u001b[0m\u001b[0mi\u001b[0m\u001b[1;33m]\u001b[0m\u001b[1;33m)\u001b[0m \u001b[1;32mfor\u001b[0m \u001b[0mi\u001b[0m \u001b[1;32min\u001b[0m \u001b[0mrange\u001b[0m\u001b[1;33m(\u001b[0m\u001b[1;36m0\u001b[0m\u001b[1;33m,\u001b[0m\u001b[0mlen\u001b[0m\u001b[1;33m(\u001b[0m\u001b[0ma\u001b[0m\u001b[1;33m)\u001b[0m\u001b[1;33m)\u001b[0m \u001b[1;32mif\u001b[0m \u001b[0ma\u001b[0m\u001b[1;33m[\u001b[0m\u001b[0mi\u001b[0m\u001b[1;33m+\u001b[0m\u001b[1;36m1\u001b[0m\u001b[1;33m]\u001b[0m\u001b[1;33m!=\u001b[0m\u001b[0ma\u001b[0m\u001b[1;33m[\u001b[0m\u001b[0mi\u001b[0m\u001b[1;33m]\u001b[0m\u001b[1;33m]\u001b[0m\u001b[1;33m\u001b[0m\u001b[0m\n\u001b[0m",
      "\u001b[1;31mIndexError\u001b[0m: string index out of range"
     ]
    }
   ],
   "source": [
    "[ b.append(a[i]) for i in range(0,len(a)) if a[i+1]!=a[i]]"
   ]
  },
  {
   "cell_type": "code",
   "execution_count": 29,
   "metadata": {},
   "outputs": [
    {
     "name": "stdout",
     "output_type": "stream",
     "text": [
      "слово\n",
      "{}\n"
     ]
    }
   ],
   "source": [
    "word = input()\n",
    "dict_word= {}\n",
    "\n",
    "\n",
    "#print(type(dict_word))\n",
    "#print(dict_word)\n"
   ]
  },
  {
   "cell_type": "code",
   "execution_count": 1,
   "metadata": {
    "collapsed": true
   },
   "outputs": [],
   "source": [
    "def create_dict_word(word):\n",
    "    word_lenth = len(word)\n",
    "    for i in range(len(word)):\n",
    "        #if word[i] in dict_word:\n",
    "         dict_word[word[i]]= dict_word.get(word[i],0)+1\n",
    "        #else:\n",
    "            #dict_word[word[i]] =  1\n",
    "    copy_dict_word = dict_word.copy()\n",
    "    dict_word.clear()\n",
    "  #  print(id(dict_word), id(copy_dict_word))\n",
    "    return word_lenth, copy_dict_word\n",
    "\n"
   ]
  },
  {
   "cell_type": "code",
   "execution_count": 2,
   "metadata": {},
   "outputs": [
    {
     "name": "stdout",
     "output_type": "stream",
     "text": [
      "слово\n",
      "5\n",
      "{'с': 1, 'л': 1, 'о': 2, 'в': 1}\n"
     ]
    }
   ],
   "source": [
    "word = input()\n",
    "dict_word= {}\n",
    "\n",
    "w_lenth, word_zero = create_dict_word(word)\n",
    "print(w_lenth)\n",
    "print(word_zero)\n"
   ]
  },
  {
   "cell_type": "code",
   "execution_count": 3,
   "metadata": {
    "scrolled": false
   },
   "outputs": [
    {
     "name": "stdout",
     "output_type": "stream",
     "text": [
      "1 во\n",
      "2 вол\n",
      "3 волос\n",
      "4 лов\n",
      "5 ОВ\n",
      "6 ОС\n",
      "7 ОСВ\n",
      "8 осов\n",
      "9 СВ\n",
      "10 со\n",
      "11 СОВ\n",
      "12 соло\n"
     ]
    }
   ],
   "source": [
    "w_number =0\n",
    "ush_dict={}\n",
    "with open('lopatin-dictionary-162000.txt', 'r') as f:        \n",
    "        \n",
    "          for line in f: \n",
    "            ush_dict.clear()\n",
    "            not_in_w_zero = 0\n",
    "            in_w_zero = 0\n",
    "                      \n",
    "            \n",
    "            # сравниваем длину слова из словаря русского языка\n",
    "            \n",
    "            if len(line.strip()) <= w_lenth and len(line.strip())!=1 and word != line.lower().strip():\n",
    "                \n",
    "                ushakov_word_lenth, ush_dict = create_dict_word(line.lower().strip())\n",
    "                #print( line.strip(), ush_dict, ush_dict.keys(), word_zero.keys())\n",
    "                \n",
    "                for ush_key in ush_dict.keys():\n",
    "                    #print(ush_key)\n",
    "                    if ush_key not in word_zero.keys():\n",
    "                        not_in_w_zero -= 1  \n",
    "                    elif ush_dict[ush_key] > word_zero[ush_key]:\n",
    "                        not_in_w_zero -= 1\n",
    "                    else:\n",
    "                        if ush_dict[ush_key] <= word_zero[ush_key]:\n",
    "                            in_w_zero += 1\n",
    "                    #print(ush_key,not_in_w_zero, in_w_zero)\n",
    "                \n",
    "                if  not_in_w_zero ==0 and in_w_zero>0:\n",
    "                    w_number += 1\n",
    "                    print(w_number,line.strip() )\n",
    "                    #print(not_in_w_zero, in_w_zero,line.strip(),ush_dict,  word_zero )\n",
    "                    #print(\"\")                   \n",
    " "
   ]
  }
 ],
 "metadata": {
  "kernelspec": {
   "display_name": "Python 3",
   "language": "python",
   "name": "python3"
  },
  "language_info": {
   "codemirror_mode": {
    "name": "ipython",
    "version": 3
   },
   "file_extension": ".py",
   "mimetype": "text/x-python",
   "name": "python",
   "nbconvert_exporter": "python",
   "pygments_lexer": "ipython3",
   "version": "3.6.2"
  }
 },
 "nbformat": 4,
 "nbformat_minor": 2
}
